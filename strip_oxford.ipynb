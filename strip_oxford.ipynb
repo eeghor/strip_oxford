{
 "cells": [
  {
   "cell_type": "code",
   "execution_count": 45,
   "metadata": {},
   "outputs": [],
   "source": [
    "from string import ascii_lowercase\n",
    "from string import ascii_uppercase\n",
    "from more_itertools import locate\n",
    "from collections import defaultdict\n",
    "import re\n",
    "import time\n",
    "import json"
   ]
  },
  {
   "cell_type": "code",
   "execution_count": 46,
   "metadata": {},
   "outputs": [],
   "source": [
    "def get_variants(s):\n",
    "    \n",
    "    vars = []\n",
    "    \n",
    "    if 'variants:' in s.lower():\n",
    "        \n",
    "        _ = s[s.lower().find('variants:') + len('variants:'):].strip()\n",
    "        first_letter = _[0]\n",
    "\n",
    "        if first_letter in ascii_uppercase:\n",
    "            wrong_capitals = set(ascii_uppercase) - {first_letter}\n",
    "            for ch in _:\n",
    "                if (ch.isalpha() or (ch in {',',' '})) and (ch not in wrong_capitals):\n",
    "                    vars.append(ch)\n",
    "                else:\n",
    "                    break\n",
    "    if vars:\n",
    "        return [v.lower().strip() for v in ''.join(vars).split(',') if v.strip()]\n",
    "    else:\n",
    "        return None\n",
    "    \n",
    "def get_origins(s):\n",
    "    \n",
    "    p1 = re.compile(r'\\d{1}\\:*\\s*[a-zA-Z,\\s\\(\\)]+:')\n",
    "    p2 = re.compile(r'[\\n|^]+[A-Z]+[ ]*\\(*\\w*\\)*(?:,\\s+[A-Z]+[\\w\\s]+)*:')\n",
    "    \n",
    "    origs = set()\n",
    "    \n",
    "    search_res = re.findall(p1, s)\n",
    "    \n",
    "    if search_res:\n",
    "        for r in search_res:\n",
    "            origs.update({orig.lower().strip() for orig in ''.join([c for c in r.split('(')[0].strip() if c.isalpha() or c in [',',' ']]).split(',') if orig.strip()})\n",
    "    else:\n",
    "        search_res = re.findall(p2, s)\n",
    "\n",
    "        if search_res:\n",
    "            for r in search_res:\n",
    "                origs.update({o.lower() for o in {orig.split('(')[0].strip() for orig in r.replace(':','').split(',') if orig.istitle()} if o != 'References'})\n",
    "    \n",
    "    return list(origs) if origs else None"
   ]
  },
  {
   "cell_type": "code",
   "execution_count": 47,
   "metadata": {},
   "outputs": [
    {
     "name": "stdout",
     "output_type": "stream",
     "text": [
      "done. 42540 names. elapsed time: 0 min 2 sec\n"
     ]
    }
   ],
   "source": [
    "if __name__ == '__main__':\n",
    "    \n",
    "    t0 = time.time()\n",
    "    \n",
    "    with open('oxford_pages.txt','r', encoding='latin-1') as f:\n",
    "        t = [line.strip() for line in f.readlines() if line.strip()]\n",
    "    \n",
    "    t = ['###' if ''.join(['.']*20) in s else s for s in t]\n",
    "    \n",
    "    brks = list(locate(t, lambda x: x == '###'))  \n",
    "    \n",
    "    names = []\n",
    "    \n",
    "    for i in range(len(brks)-1):\n",
    "        \n",
    "        name_info = defaultdict()\n",
    "        \n",
    "        name_info['name'] = t[brks[i]-1].lower().strip()\n",
    "        \n",
    "        name_desc = '\\n'.join(t[brks[i]+1:brks[i+1]-1])\n",
    "        \n",
    "        name_info['variants'] = get_variants(name_desc)\n",
    "        name_info['origins'] = get_origins(name_desc)\n",
    "        \n",
    "        names.append(name_info)\n",
    "    \n",
    "    print('done. {} names. elapsed time: {:.0f} min {:.0f} sec'.format(len(names), *divmod(time.time() - t0, 60)))\n",
    "    json.dump(names, open('oxford_names.json','w'))  "
   ]
  },
  {
   "cell_type": "code",
   "execution_count": null,
   "metadata": {},
   "outputs": [],
   "source": []
  }
 ],
 "metadata": {
  "kernelspec": {
   "display_name": "Python 3",
   "language": "python",
   "name": "python3"
  },
  "language_info": {
   "codemirror_mode": {
    "name": "ipython",
    "version": 3
   },
   "file_extension": ".py",
   "mimetype": "text/x-python",
   "name": "python",
   "nbconvert_exporter": "python",
   "pygments_lexer": "ipython3",
   "version": "3.6.4"
  }
 },
 "nbformat": 4,
 "nbformat_minor": 2
}
